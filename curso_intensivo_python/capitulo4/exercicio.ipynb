{
 "cells": [
  {
   "cell_type": "code",
   "execution_count": 6,
   "metadata": {},
   "outputs": [
    {
     "name": "stdout",
     "output_type": "stream",
     "text": [
      "A lista completa\n",
      "[1, 3, 5, 7, 9, 11, 13, 15, 17, 19]\n",
      "Os três primeiros elementos da lista são [1, 3, 5]\n",
      "Os três do meio são [7, 9, 11]\n",
      "Os três finais são [15, 17, 19]\n"
     ]
    }
   ],
   "source": [
    "# Programa atualizado\n",
    "odds = list(range(1, 20, 2))\n",
    "print(f'A lista completa\\n{odds}')\n",
    "\n",
    "print(f'Os três primeiros elementos da lista são {odds[:3]}')\n",
    "print(f'Os três do meio são {odds[3:6]}')\n",
    "print(f'Os três finais são {odds[-3:]}')\n"
   ]
  },
  {
   "cell_type": "code",
   "execution_count": 9,
   "metadata": {},
   "outputs": [
    {
     "name": "stdout",
     "output_type": "stream",
     "text": [
      "['frango catupiry', 'calabresa', 'portuguesa', 'peperoni']\n",
      "Gosto de pizza de frango catupiry\n",
      "Gosto de pizza de calabresa\n",
      "Gosto de pizza de portuguesa\n",
      "Gosto de pizza de peperoni\n",
      "Eu amo pizza\n",
      "\n",
      "['frango catupiry', 'calabresa', 'portuguesa', 'havai']\n",
      "Minhas pizzas favorias frango catupiry\n",
      "Minhas pizzas favorias calabresa\n",
      "Minhas pizzas favorias portuguesa\n",
      "Minhas pizzas favorias havai\n"
     ]
    }
   ],
   "source": [
    "# Pizzas 4.1 - 4.11\n",
    "pizzas = ['frango catupiry', 'calabresa', 'portuguesa']\n",
    "friend_pizzas = pizzas[:]\n",
    "\n",
    "pizzas.append('peperoni')\n",
    "friend_pizzas.append('havai')\n",
    "\n",
    "# Loop pizzas\n",
    "print(pizzas)\n",
    "for p in pizzas:\n",
    "    \n",
    "    print(f'Gosto de pizza de {p}')\n",
    "print('Eu amo pizza\\n')\n",
    "\n",
    "print(friend_pizzas)\n",
    "for p in friend_pizzas:\n",
    "\n",
    "    print(f'Minhas pizzas favorias {p}')"
   ]
  },
  {
   "cell_type": "code",
   "execution_count": 14,
   "metadata": {},
   "outputs": [
    {
     "name": "stdout",
     "output_type": "stream",
     "text": [
      "macarronada\n",
      "lasanha\n",
      "raviolli\n",
      "penne\n",
      "spaghetti\n",
      "\n",
      "macarronada\n",
      "lasanha\n",
      "raviolli\n",
      "pizza\n",
      "nhoque\n"
     ]
    }
   ],
   "source": [
    "# Exercicio 4.13\n",
    "\n",
    "# Criando a tupla\n",
    "refeicoes = ('macarronada', 'lasanha', 'raviolli', 'penne', 'spaghetti')\n",
    "\n",
    "\n",
    "# loop\n",
    "for comida in refeicoes:\n",
    "    print(comida)\n",
    "\n",
    "print()\n",
    "\n",
    "refeicoes = ('macarronada', 'lasanha', 'raviolli', 'pizza', 'nhoque')\n",
    "\n",
    "for comida in refeicoes:\n",
    "    print(comida)"
   ]
  }
 ],
 "metadata": {
  "kernelspec": {
   "display_name": "Python 3",
   "language": "python",
   "name": "python3"
  },
  "language_info": {
   "codemirror_mode": {
    "name": "ipython",
    "version": 3
   },
   "file_extension": ".py",
   "mimetype": "text/x-python",
   "name": "python",
   "nbconvert_exporter": "python",
   "pygments_lexer": "ipython3",
   "version": "3.12.2"
  }
 },
 "nbformat": 4,
 "nbformat_minor": 2
}
