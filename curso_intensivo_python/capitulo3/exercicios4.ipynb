{
 "cells": [
  {
   "cell_type": "code",
   "execution_count": 4,
   "metadata": {},
   "outputs": [
    {
     "name": "stdout",
     "output_type": "stream",
     "text": [
      "['Roma', 'Edimburgo', 'Japão', 'Escócia', 'Grecia']\n",
      "['Edimburgo', 'Escócia', 'Grecia', 'Japão', 'Roma']\n"
     ]
    }
   ],
   "source": [
    "# Exercício 3.8\n",
    "\n",
    "# Lista\n",
    "lista = ['Roma', 'Edimburgo', 'Japão', 'Escócia', 'Grecia']\n",
    "\n",
    "print(lista)\n",
    "print(sorted(lista))\n"
   ]
  }
 ],
 "metadata": {
  "kernelspec": {
   "display_name": "Python 3",
   "language": "python",
   "name": "python3"
  },
  "language_info": {
   "codemirror_mode": {
    "name": "ipython",
    "version": 3
   },
   "file_extension": ".py",
   "mimetype": "text/x-python",
   "name": "python",
   "nbconvert_exporter": "python",
   "pygments_lexer": "ipython3",
   "version": "3.12.2"
  }
 },
 "nbformat": 4,
 "nbformat_minor": 2
}
