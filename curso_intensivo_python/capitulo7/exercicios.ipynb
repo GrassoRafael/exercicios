{
 "cells": [
  {
   "cell_type": "code",
   "execution_count": 4,
   "metadata": {},
   "outputs": [
    {
     "name": "stdout",
     "output_type": "stream",
     "text": [
      "The topping Chicken was been added to your pizza\n",
      "The topping Cheese was been added to your pizza\n",
      "The topping Tomato was been added to your pizza\n",
      "The topping Cream Cheese was been added to your pizza\n",
      "The topping Bacon was been added to your pizza\n",
      "The topping Tomato Sauce was been added to your pizza\n"
     ]
    }
   ],
   "source": [
    "# 7.4 Ingredientes de pizza\n",
    "topping = ''\n",
    "\n",
    "while topping != 'quit':\n",
    "    topping = input('Write your pizza topping: '\n",
    "                    \"\\nEnter 'quit' to exit.\")\n",
    "    if topping == 'quit':\n",
    "        break\n",
    "    print(f'The topping {topping} was been added to your pizza')"
   ]
  },
  {
   "cell_type": "code",
   "execution_count": 11,
   "metadata": {},
   "outputs": [
    {
     "name": "stdout",
     "output_type": "stream",
     "text": [
      "Are you 2 year old, so your ticket is free\n",
      "Are you 10 year old, so you ticket will cost U$10.00\n",
      "Are you 22 year old, so you ticket will cost U$15.00\n"
     ]
    }
   ],
   "source": [
    "# 7.5 Igressos de cinema\n",
    "active = True\n",
    "\n",
    "while active:\n",
    "    age = int(input('What is your age? '))\n",
    "                    \n",
    "    if age < 3:\n",
    "        print(f\"Are you {age} year old, so your ticket is free\")\n",
    "    elif age >= 3 and age <= 12:\n",
    "        print(f'Are you {age} year old, so you ticket will cost U$10.00')\n",
    "    else:\n",
    "        print(f'Are you {age} year old, so you ticket will cost U$15.00')\n",
    "\n",
    "    if input(\"Do you whant do continue? (y/n) \") == 'n':\n",
    "        active = False\n",
    "     "
   ]
  },
  {
   "cell_type": "code",
   "execution_count": 12,
   "metadata": {},
   "outputs": [
    {
     "name": "stdout",
     "output_type": "stream",
     "text": [
      "Verifying user: Candace\n",
      "Verifying user: Brian\n",
      "Verifying user: Alice\n",
      "\n",
      "The following users have been confirmed:\n",
      "Candace\n",
      "Brian\n",
      "Alice\n"
     ]
    }
   ],
   "source": [
    "# confirmed_users.py\n",
    "# Começa com usuários que precisam ser verificados, e uma lista vazia a fim de\n",
    "# armazenar os usuários confirmados\n",
    "unconfirmed_users = ['Alice', 'Brian', 'Candace']\n",
    "confirmed_users = list()\n",
    "\n",
    "# Faz a verificação de cada usuário até que não tenha mais usuários confirmados\n",
    "# Transfere cada usuário verificado para a lista de usuários confirmados\n",
    "while unconfirmed_users:\n",
    "    current_user = unconfirmed_users.pop()\n",
    "\n",
    "    print(f'Verifying user: {current_user}')\n",
    "    confirmed_users.append(current_user)\n",
    "\n",
    "# Exive todos os usuários confirmados\n",
    "print(f'\\nThe following users have been confirmed:')\n",
    "for user in confirmed_users:\n",
    "    print(user)\n"
   ]
  },
  {
   "cell_type": "code",
   "execution_count": 14,
   "metadata": {},
   "outputs": [
    {
     "name": "stdout",
     "output_type": "stream",
     "text": [
      "['dog', 'goldfish', 'rabbit']\n"
     ]
    }
   ],
   "source": [
    "# pets.py\n",
    "pets = ['dog', 'cat', 'goldfish', 'cat', 'rabbit', 'cat']\n",
    "\n",
    "while 'cat' in pets:\n",
    "    pets.remove('cat')\n",
    "\n",
    "print(pets)"
   ]
  },
  {
   "cell_type": "code",
   "execution_count": 31,
   "metadata": {},
   "outputs": [
    {
     "name": "stdout",
     "output_type": "stream",
     "text": [
      "Your sandwichs are: Chicken Sandwich\n",
      "Your sandwichs are: Grilled Cheese Sandwich\n",
      "Your sandwichs are: Ham and Cheese Sandwich\n",
      "Your sandwichs are: Roast Beef Sandwich\n",
      "Your sandwichs are: Tuna Sandwich\n",
      "Your sandwichs are: Grilled Vegetable Sandwich\n",
      "Your sandwichs are: Steak and Onion Sandwich\n",
      "Your sandwichs are: BLT Sandwich (Bacon, Lettuce, and Tomato)\n",
      "Your sandwichs are: Egg Salad Sandwich\n",
      "Your sandwichs are: Turkey and Avocado Sandwich\n",
      "Your sandwichs are: Pastrami\n",
      "Your sandwichs are: Pastrami\n",
      "Your sandwichs are: Pastrami\n",
      "\n",
      "You Turkey and Avocado Sandwich is ready\n",
      "You Egg Salad Sandwich is ready\n",
      "You BLT Sandwich (Bacon, Lettuce, and Tomato) is ready\n",
      "You Steak and Onion Sandwich is ready\n",
      "You Grilled Vegetable Sandwich is ready\n",
      "You Tuna Sandwich is ready\n",
      "You Roast Beef Sandwich is ready\n",
      "You Ham and Cheese Sandwich is ready\n",
      "You Grilled Cheese Sandwich is ready\n",
      "You Chicken Sandwich is ready\n",
      "\n",
      "Your number 1 order is: Turkey and Avocado Sandwich\n",
      "Your number 2 order is: Egg Salad Sandwich\n",
      "Your number 3 order is: BLT Sandwich (Bacon, Lettuce, and Tomato)\n",
      "Your number 4 order is: Steak and Onion Sandwich\n",
      "Your number 5 order is: Grilled Vegetable Sandwich\n",
      "Your number 6 order is: Tuna Sandwich\n",
      "Your number 7 order is: Roast Beef Sandwich\n",
      "Your number 8 order is: Ham and Cheese Sandwich\n",
      "Your number 9 order is: Grilled Cheese Sandwich\n",
      "Your number 10 order is: Chicken Sandwich\n"
     ]
    }
   ],
   "source": [
    "# 7.8 e 7.9 Lanchonete\n",
    "# List of sandwichs\n",
    "sandwich_orders = [\n",
    "    \"Chicken Sandwich\",\n",
    "    \"Grilled Cheese Sandwich\",\n",
    "    \"Ham and Cheese Sandwich\",\n",
    "    \"Roast Beef Sandwich\",\n",
    "    \"Tuna Sandwich\",\n",
    "    \"Grilled Vegetable Sandwich\",\n",
    "    \"Steak and Onion Sandwich\",\n",
    "    \"BLT Sandwich (Bacon, Lettuce, and Tomato)\",\n",
    "    \"Egg Salad Sandwich\",\n",
    "    \"Turkey and Avocado Sandwich\",\n",
    "    \"Pastrami\",\n",
    "    \"Pastrami\",\n",
    "    \"Pastrami\",\n",
    "]\n",
    "\n",
    "finished_sandwiches = list()\n",
    "\n",
    "for i in sandwich_orders:\n",
    "    print(f'Your sandwichs are: {i}')\n",
    "print()\n",
    "\n",
    "# Loop para remover todos os pastrami da litas\n",
    "while 'Pastrami' in sandwich_orders:\n",
    "    sandwich_orders.remove('Pastrami')\n",
    "\n",
    "# Loop for the sandwichs names\n",
    "while sandwich_orders:\n",
    "    finished_sandwiches.append(sandwich_orders.pop())\n",
    "    print(f'You {finished_sandwiches[-1]} is ready')\n",
    "\n",
    "print()\n",
    "for i, sandwich in enumerate(finished_sandwiches):\n",
    "    print(f'Your number {i + 1} order is: {sandwich}')"
   ]
  },
  {
   "cell_type": "code",
   "execution_count": 34,
   "metadata": {},
   "outputs": [
    {
     "name": "stdout",
     "output_type": "stream",
     "text": [
      "The dream vacation of Alice is: \n",
      "Relaxing on a secluded tropical island with palm trees and crystal-clear waters.\n",
      "\n",
      "The dream vacation of Bob is: \n",
      "Exploring ancient ruins in a remote jungle and discovering hidden treasures.\n",
      "\n",
      "The dream vacation of Charlie is: \n",
      "Skiing down pristine slopes in the Swiss Alps, surrounded by majestic mountains.\n",
      "\n",
      "The dream vacation of Diana is: \n",
      "Backpacking through lush rainforests, camping under the stars, and experiencing local cultures.\n",
      "\n",
      "The dream vacation of Eric is: \n",
      "Sailing around the Greek islands, visiting charming villages, and indulging in delicious Mediterranean cuisine.\n",
      "\n"
     ]
    }
   ],
   "source": [
    "# 7.10 Férias tão sonhadas\n",
    "active = True\n",
    "\n",
    "while active:\n",
    "    name = input('What is your name? ')\n",
    "    vacations = input('What is your dream vacation? ')\n",
    "    print(f'The dream vacation of {name} is: \\n{vacations}\\n')\n",
    "    end = input('Do you want do continue? (y/n) ')\n",
    "\n",
    "    if end == 'n':\n",
    "        active = False\n"
   ]
  }
 ],
 "metadata": {
  "kernelspec": {
   "display_name": "Python 3",
   "language": "python",
   "name": "python3"
  },
  "language_info": {
   "codemirror_mode": {
    "name": "ipython",
    "version": 3
   },
   "file_extension": ".py",
   "mimetype": "text/x-python",
   "name": "python",
   "nbconvert_exporter": "python",
   "pygments_lexer": "ipython3",
   "version": "3.12.2"
  }
 },
 "nbformat": 4,
 "nbformat_minor": 2
}
