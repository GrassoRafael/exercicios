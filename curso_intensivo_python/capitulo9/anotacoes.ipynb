{
 "cells": [
  {
   "cell_type": "code",
   "execution_count": 2,
   "metadata": {},
   "outputs": [
    {
     "name": "stdout",
     "output_type": "stream",
     "text": [
      "Willie is now sitting.\n",
      "Willie rolled over!\n",
      "My dog's name is Willie.\n",
      "My dog if 6 year old.\n"
     ]
    }
   ],
   "source": [
    "# dog.py\n",
    "class Dog:\n",
    "    \"\"\"Simple attempt to model a dog\"\"\"\n",
    "\n",
    "    def __init__(self, name, age):\n",
    "        \"\"\"Inicializa os tributos de nome e idade\"\"\"\n",
    "        self.name = name\n",
    "        self.age = age\n",
    "\n",
    "    def sit(self):\n",
    "        \"\"\"Simula um cachorro sentado em respota a um comando\"\"\"\n",
    "        print(f'{self.name} is now sitting.')\n",
    "\n",
    "    def roll_over(self):\n",
    "        \"\"\"Simula um cachorro rolando em respota a um comando\"\"\"\n",
    "        print(f'{self.name} rolled over!')\n",
    "\n",
    "\n",
    "my_dog = Dog('Willie', 6)\n",
    "my_dog.sit()\n",
    "my_dog.roll_over()\n",
    "\n",
    "print(f\"My dog's name is {my_dog.name}.\")\n",
    "print(f'My dog if {my_dog.age} year old.')\n"
   ]
  }
 ],
 "metadata": {
  "kernelspec": {
   "display_name": "Python 3",
   "language": "python",
   "name": "python3"
  },
  "language_info": {
   "codemirror_mode": {
    "name": "ipython",
    "version": 3
   },
   "file_extension": ".py",
   "mimetype": "text/x-python",
   "name": "python",
   "nbconvert_exporter": "python",
   "pygments_lexer": "ipython3",
   "version": "3.12.2"
  }
 },
 "nbformat": 4,
 "nbformat_minor": 2
}
