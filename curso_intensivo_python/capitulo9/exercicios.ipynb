{
 "cells": [
  {
   "cell_type": "code",
   "execution_count": 23,
   "metadata": {},
   "outputs": [
    {
     "name": "stdout",
     "output_type": "stream",
     "text": [
      "The name of the restaurant is Perfil\n",
      "The type of restaurant is all in one\n",
      "The restaurant Perfil serves, pizza or barbecue or sushi and your type is all in one\n",
      "The restaurant Perfil is open\n",
      "\n",
      "The name of the restaurant is Pizzaria 2001\n",
      "The type of the restaurant is pizzeria\n",
      "The restaurant Pizzaria 2001 serves, pizza or barbecue or sushi and your type is pizzeria\n",
      "The restaurant Pizzaria 2001 is open\n",
      "\n",
      "The name of the restaurant is Gourmet Delights\n",
      "The type of the restaurant is International Fusion\n",
      "The restaurant Gourmet Delights serves, pizza or barbecue or sushi and your type is International Fusion\n",
      "The restaurant Gourmet Delights is open\n"
     ]
    }
   ],
   "source": [
    "# 9.1 Restaurant and 9.3 three restaurants:\n",
    "class Restaurant:\n",
    "    \"\"\"Classifying a restaurant\"\"\"\n",
    "\n",
    "    def __init__(self, restaurant_name, cuisine_type):\n",
    "        \"\"\"Show the restaurant name and type\"\"\"\n",
    "        self.restaurant_name = restaurant_name.title()\n",
    "        self.cuisine_type = cuisine_type\n",
    "\n",
    "    def describe_restaurant(self):\n",
    "        \"\"\"A description of the restaurant\"\"\"\n",
    "        print(f'The restaurant {self.restaurant_name.title()} serves, pizza'\n",
    "              f' or barbecue or sushi and your type is {self.cuisine_type}')\n",
    "        \n",
    "    def open_restaurant(self):\n",
    "        \"\"\"Indicates that the restaurant is open\"\"\"\n",
    "        print(f'The restaurant {self.restaurant_name.title()} is open')\n",
    "        \n",
    "\n",
    "\n",
    "# Principal program\n",
    "restaurant = Restaurant('perfil', 'all in one')\n",
    "print(f'The name of the restaurant is {restaurant.restaurant_name}') \n",
    "print(f'The type of restaurant is {restaurant.cuisine_type}')  \n",
    "restaurant.describe_restaurant()\n",
    "restaurant.open_restaurant()\n",
    "print()\n",
    "\n",
    "restaurant2 = Restaurant('pizzaria 2001', 'pizzeria')\n",
    "print(f'The name of the restaurant is {restaurant2.restaurant_name}')\n",
    "print(f'The type of the restaurant is {restaurant2.cuisine_type}')\n",
    "restaurant2.describe_restaurant()\n",
    "restaurant2.open_restaurant()\n",
    "print()\n",
    "\n",
    "restaurant3 = Restaurant('Gourmet Delights', 'International Fusion')\n",
    "print(f'The name of the restaurant is {restaurant3.restaurant_name}')\n",
    "print(f'The type of the restaurant is {restaurant3.cuisine_type}')\n",
    "restaurant3.describe_restaurant()\n",
    "restaurant3.open_restaurant()\n"
   ]
  },
  {
   "cell_type": "code",
   "execution_count": 26,
   "metadata": {},
   "outputs": [
    {
     "name": "stdout",
     "output_type": "stream",
     "text": [
      "Emma\n",
      "Johnson\n",
      "The user name is: Emma\n",
      "And the last name is: Johnson\n",
      "Welcome back Emma Johnson!!\n"
     ]
    }
   ],
   "source": [
    "# Users:\n",
    "class User:\n",
    "    \"\"\"Show the user information\"\"\"\n",
    "\n",
    "    def __init__(self, first_name, last_name):\n",
    "        \"\"\"Show the the user's first and last name\"\"\"\n",
    "        self.first_name = first_name.title()\n",
    "        self.last_name = last_name.title()\n",
    "\n",
    "    def describe_user(self):\n",
    "        print(f'The user name is: {self.first_name}\\n'\n",
    "              f'And the last name is: {self.last_name}')\n",
    "        \n",
    "    def greet_user(self):\n",
    "        \"\"\"Greetings to the user\"\"\"\n",
    "        print(f'Welcome back {self.first_name} {self.last_name}!!')\n",
    "\n",
    "# Principal program\n",
    "user1 = User('emma', 'johnson')\n",
    "print(user1.first_name)\n",
    "print(user1.last_name)\n",
    "user1.describe_user()\n",
    "user1.greet_user()\n"
   ]
  }
 ],
 "metadata": {
  "kernelspec": {
   "display_name": "Python 3",
   "language": "python",
   "name": "python3"
  },
  "language_info": {
   "codemirror_mode": {
    "name": "ipython",
    "version": 3
   },
   "file_extension": ".py",
   "mimetype": "text/x-python",
   "name": "python",
   "nbconvert_exporter": "python",
   "pygments_lexer": "ipython3",
   "version": "3.12.2"
  }
 },
 "nbformat": 4,
 "nbformat_minor": 2
}
