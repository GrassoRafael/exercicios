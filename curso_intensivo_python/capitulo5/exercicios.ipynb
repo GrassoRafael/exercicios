{
 "cells": [
  {
   "cell_type": "code",
   "execution_count": 5,
   "metadata": {},
   "outputs": [
    {
     "name": "stdout",
     "output_type": "stream",
     "text": [
      "Is car == subaru? I predict True\n"
     ]
    }
   ],
   "source": [
    "# 5.1 Testes condicionais\n",
    "\n",
    "# Variável\n",
    "car = 'subaru'\n",
    "\n",
    "\n",
    "\n",
    "if car == 'subaru':\n",
    "    print(f'Is car == subaru? I predict', True)"
   ]
  },
  {
   "cell_type": "code",
   "execution_count": 7,
   "metadata": {},
   "outputs": [
    {
     "name": "stdout",
     "output_type": "stream",
     "text": [
      "You gained 5 points\n"
     ]
    }
   ],
   "source": [
    "# 5.3 Cores de alienígenas\n",
    "alien_color = 'yellow'\n",
    "\n",
    "if alien_color == 'green':\n",
    "    print('You gained 5 points')\n",
    "\n",
    "if alien_color == 'yellow':\n",
    "    print('You gained 5 points')"
   ]
  },
  {
   "cell_type": "code",
   "execution_count": 14,
   "metadata": {},
   "outputs": [
    {
     "name": "stdout",
     "output_type": "stream",
     "text": [
      "You gained 5 point\n",
      "\n",
      "You gained 15 points\n",
      "\n",
      "You gained 10 points\n"
     ]
    }
   ],
   "source": [
    "# 5.4 Cores de alienígenas #2\n",
    "alien_color = 'green'\n",
    "\n",
    "if alien_color == 'green':\n",
    "    print('You gained 5 point')\n",
    "elif alien_color == 'red':\n",
    "    print('You gained 10 points')\n",
    "else:\n",
    "    print('You gained 15 points')\n",
    "print()\n",
    "\n",
    "alien_color = 'blue'\n",
    "\n",
    "if alien_color == 'green':\n",
    "    print('You gained 5 point')\n",
    "elif alien_color == 'red':\n",
    "    print('You gained 10 points')\n",
    "else:\n",
    "    print('You gained 15 points')\n",
    "print()\n",
    "\n",
    "alien_color = 'red'\n",
    "\n",
    "if alien_color == 'green':\n",
    "    print('You gained 5 point')\n",
    "elif alien_color == 'red':\n",
    "    print('You gained 10 points')\n",
    "else:\n",
    "    print('You gained 15 points')\n"
   ]
  },
  {
   "cell_type": "code",
   "execution_count": 38,
   "metadata": {},
   "outputs": [
    {
     "name": "stdout",
     "output_type": "stream",
     "text": [
      "Você precisa encontrar alguns usuários\n",
      "O usuário alice já existe, insira um novo\n",
      "Bem vindo ao site, Natasha\n",
      "Bem vindo ao site, Rafael\n",
      "Bem vindo ao site, Bob\n",
      "Bem vindo ao site, VINICIUS\n"
     ]
    }
   ],
   "source": [
    "# Exercicio 5.8 e 5.9 Olá, Admin\n",
    "usuarios = []\n",
    "\n",
    "if not usuarios:\n",
    "    print('Você precisa encontrar alguns usuários')\n",
    "\n",
    "for i in usuarios:\n",
    "    if i == 'admin':\n",
    "        print(f'Bem vindo {i}, gostaria de ver um relatório de status?')\n",
    "    else:\n",
    "        print(f'Bem vindo(a) ao site , {i.title()}')\n",
    "\n",
    "# 5.9 Sem usuário\n",
    "current_users = ['Alice', 'Bob', 'Carol', 'David', 'Eva']\n",
    "current_users_lower = (i.lower() for i in current_users)\n",
    "new_users = ['alice', 'Natasha', 'Rafael', 'Bob', 'VINICIUS']\n",
    "new_user_lower = (i.lower() for i in new_users)\n",
    "\n",
    "for i in new_users:\n",
    "    if i in current_users_lower:\n",
    "        print(f'O usuário {i} já existe, insira um novo')\n",
    "    else:\n",
    "        print(f'Bem vindo ao site, {i}')\n"
   ]
  },
  {
   "cell_type": "code",
   "execution_count": 41,
   "metadata": {},
   "outputs": [
    {
     "name": "stdout",
     "output_type": "stream",
     "text": [
      "1st\n",
      "2nd\n",
      "3rd\n",
      "4th\n",
      "5th\n",
      "6th\n",
      "7th\n",
      "8th\n",
      "9th\n"
     ]
    }
   ],
   "source": [
    "# Exercicio 5.11 Números Ordinais\n",
    "n = list(range(1, 10))\n",
    "\n",
    "for i in n:\n",
    "    if i == 1:\n",
    "        print(f'{i}st')\n",
    "    elif i == 2:\n",
    "        print(f'{i}nd')\n",
    "    elif i == 3:\n",
    "        print(f'{i}rd')\n",
    "    else:\n",
    "        print(f'{i}th')"
   ]
  }
 ],
 "metadata": {
  "kernelspec": {
   "display_name": "Python 3",
   "language": "python",
   "name": "python3"
  },
  "language_info": {
   "codemirror_mode": {
    "name": "ipython",
    "version": 3
   },
   "file_extension": ".py",
   "mimetype": "text/x-python",
   "name": "python",
   "nbconvert_exporter": "python",
   "pygments_lexer": "ipython3",
   "version": "3.12.2"
  }
 },
 "nbformat": 4,
 "nbformat_minor": 2
}
