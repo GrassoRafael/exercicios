{
 "cells": [
  {
   "cell_type": "code",
   "execution_count": 5,
   "metadata": {},
   "outputs": [
    {
     "name": "stdout",
     "output_type": "stream",
     "text": [
      "A chave é first_name e o valor é rafael\n",
      "A chave é last_name e o valor é grasso\n",
      "A chave é age e o valor é 25\n",
      "A chave é city e o valor é vila velha\n"
     ]
    }
   ],
   "source": [
    "# 6.1 pessoa\n",
    "\n",
    "pessoa = {\n",
    "    'first_name': 'rafael',\n",
    "    'last_name': 'grasso',\n",
    "    'age': '25',\n",
    "    'city': 'vila velha',\n",
    "}        \n",
    "\n",
    "for i, v in pessoa.items():\n",
    "    print(f'A chave é {i} e o valor é {v}')\n",
    "    "
   ]
  },
  {
   "cell_type": "code",
   "execution_count": 8,
   "metadata": {},
   "outputs": [
    {
     "name": "stdout",
     "output_type": "stream",
     "text": [
      "O número favorito do(a) Rafael é 10\n",
      "O número favorito do(a) Natasha é 4\n",
      "O número favorito do(a) Vinicius é 9\n",
      "O número favorito do(a) Anderson é 34\n",
      "O número favorito do(a) Daniel é 12\n"
     ]
    }
   ],
   "source": [
    "# 6.2 Números Favoritos\n",
    "numeros_favoritos = {\n",
    "    'rafael': 10,\n",
    "    'natasha': 4,\n",
    "    'vinicius': 9,\n",
    "    'anderson': 34,\n",
    "    'daniel': 12,\n",
    "}\n",
    "\n",
    "for i, v in numeros_favoritos.items():\n",
    "    print(f'O número favorito do(a) {i.title()} é {v}')\n"
   ]
  },
  {
   "cell_type": "code",
   "execution_count": 9,
   "metadata": {},
   "outputs": [
    {
     "name": "stdout",
     "output_type": "stream",
     "text": [
      "O significado da palavra insight é: ideia baseada em dados\n",
      "\n",
      "O significado da palavra identar é: utilizar 4 espaços para separar um código\n",
      "\n",
      "O significado da palavra metodo é: sintaxe utilizada para modificar uma variável\n",
      "\n",
      "O significado da palavra tuplas é: é uma lista de itens imutáveis\n",
      "\n",
      "O significado da palavra python é: linguagem de programação orientada a objeto\n",
      "\n"
     ]
    }
   ],
   "source": [
    "# 6.3 Glossário\n",
    "glossario = {\n",
    "    'insight': 'ideia baseada em dados',\n",
    "    'identar': 'utilizar 4 espaços para separar um código',\n",
    "    'metodo': 'sintaxe utilizada para modificar uma variável',\n",
    "    'tuplas': 'é uma lista de itens imutáveis',\n",
    "    'python': 'linguagem de programação orientada a objeto'\n",
    "}\n",
    "\n",
    "for i, v in glossario.items():\n",
    "    print(f'O significado da palavra {i} é: {v}\\n')"
   ]
  },
  {
   "cell_type": "code",
   "execution_count": 35,
   "metadata": {},
   "outputs": [
    {
     "name": "stdout",
     "output_type": "stream",
     "text": [
      "1ª Pessoa:\n",
      "First_Name - Rafael\n",
      "Last_Name - Grasso\n",
      "Age - 25\n",
      "City - Vila Velha\n",
      "\n",
      "2ª Pessoa:\n",
      "First_Name - Natasha\n",
      "Last_Name - Mattos\n",
      "Age - 26\n",
      "City - Vila Velha\n",
      "\n",
      "3ª Pessoa:\n",
      "First_Name - Anderson\n",
      "Last_Name - Martins\n",
      "Age - 34\n",
      "City - Canoas\n",
      "\n",
      "4ª Pessoa:\n",
      "First_Name - Daniel\n",
      "Last_Name - Macedo\n",
      "Age - 39\n",
      "City - Canoas\n",
      "\n",
      "5ª Pessoa:\n",
      "First_Name - Vinicius\n",
      "Last_Name - Patotinha\n",
      "Age - 21\n",
      "City - São Paulo\n",
      "\n"
     ]
    }
   ],
   "source": [
    "# 6.7 Pessoas\n",
    "\n",
    "people = [\n",
    "    {\n",
    "        'first_name': 'Rafael',\n",
    "        'last_name': 'Grasso',\n",
    "        'age': 25,\n",
    "        'city': 'Vila Velha'\n",
    "    },\n",
    "    {\n",
    "        'first_name': 'Natasha',\n",
    "        'last_name': 'Mattos',\n",
    "        'age': 26,\n",
    "        'city': 'Vila Velha'\n",
    "    },\n",
    "    {\n",
    "        'first_name': 'Anderson',\n",
    "        'last_name': 'Martins',\n",
    "        'age': 34,\n",
    "        'city': 'Canoas'\n",
    "    },\n",
    "    {\n",
    "        'first_name': 'Daniel',\n",
    "        'last_name': 'Macedo',\n",
    "        'age': 39,\n",
    "        'city': 'Canoas'\n",
    "    },\n",
    "    {\n",
    "        'first_name': 'Vinicius',\n",
    "        'last_name': 'Patotinha',\n",
    "        'age': 21,\n",
    "        'city': 'São Paulo'\n",
    "    }\n",
    "]  \n",
    "\n",
    "count = 0\n",
    "for index, user in enumerate(people, start=1):\n",
    "    print(f'{index}ª Pessoa:')\n",
    "\n",
    "    for k, i in user.items():\n",
    "        print(f'{k.title()} - {i}')\n",
    "    print()"
   ]
  },
  {
   "cell_type": "code",
   "execution_count": 51,
   "metadata": {},
   "outputs": [
    {
     "name": "stdout",
     "output_type": "stream",
     "text": [
      "\n",
      "A pessoa abaixo possui o animal: Cachorro\n",
      "Dono: Rafael\n",
      "Categoria: Canídeo\n",
      "\n",
      "A pessoa abaixo possui o animal: Gato\n",
      "Dono: Natasha\n",
      "Categoria: Felino\n",
      "\n",
      "A pessoa abaixo possui o animal: Passaro\n",
      "Dono: Anderson\n",
      "Categoria: Ave\n",
      "\n",
      "A pessoa abaixo possui o animal: Tartaruga\n",
      "Dono: Vinicius\n",
      "Categoria: Réptil\n",
      "\n",
      "A pessoa abaixo possui o animal: Peixe\n",
      "Dono: Daniel\n",
      "Categoria: Pisces\n"
     ]
    }
   ],
   "source": [
    "# 6.8 animais de estimação\n",
    "pets = [\n",
    "    {\n",
    "        'cachorro': {\n",
    "            'dono': 'Rafael',\n",
    "            'categoria': 'Canídeo'\n",
    "        }\n",
    "    },\n",
    "    {\n",
    "        'gato': {\n",
    "            'dono': 'Natasha',\n",
    "            'categoria': 'Felino'\n",
    "        }\n",
    "    },\n",
    "    {\n",
    "        'passaro': {\n",
    "            'dono': 'Anderson',\n",
    "            'categoria': 'Ave'\n",
    "        }\n",
    "    },\n",
    "    {\n",
    "        'tartaruga': {\n",
    "            'dono': 'Vinicius',\n",
    "            'categoria': 'Réptil'\n",
    "        }\n",
    "    },\n",
    "    {\n",
    "        'peixe': {\n",
    "            'dono': 'Daniel',\n",
    "            'categoria': 'Pisces'\n",
    "        }\n",
    "    }\n",
    "]\n",
    "\n",
    "for animal in pets:\n",
    "    print()\n",
    "    for k, v in animal.items():\n",
    "        print(f'A pessoa abaixo possui o animal: {k.title()}')\n",
    "        for chave, valor in v.items():\n",
    "            if chave == 'dono':\n",
    "                print(f'Dono: {valor}')\n",
    "            if chave == 'categoria':\n",
    "                print(f'Categoria: {valor.title()}')\n",
    "                "
   ]
  },
  {
   "cell_type": "code",
   "execution_count": 68,
   "metadata": {},
   "outputs": [
    {
     "name": "stdout",
     "output_type": "stream",
     "text": [
      "\n",
      "Os lugares favoritos do(a) Natasha são:\n",
      "Nova York\n",
      "Tóquio\n",
      "Paris\n",
      "\n",
      "Os lugares favoritos do(a) Rafael são:\n",
      "Londres\n",
      "Rio de Janeiro\n",
      "Sydney\n",
      "\n",
      "Os lugares favoritos do(a) Anderson são:\n",
      "Istambul\n",
      "Moscou\n",
      "Cairo\n"
     ]
    }
   ],
   "source": [
    "# 6.9 Lugares Favoritos\n",
    "favorite_places = {\n",
    "    'Natasha': [\n",
    "        'Nova York',\n",
    "        'Tóquio',\n",
    "        'Paris',\n",
    "    ],\n",
    "    'Rafael': [\n",
    "        'Londres',\n",
    "        'Rio de Janeiro',\n",
    "        'Sydney',\n",
    "    ],\n",
    "    'Anderson': [\n",
    "        'Istambul',\n",
    "        'Moscou',\n",
    "        'Cairo',\n",
    "    ]\n",
    "}\n",
    "\n",
    "for pessoa, lugares in favorite_places.items():\n",
    "    print(f'\\nOs lugares favoritos do(a) {pessoa} são:')\n",
    "    for pos, cidade in enumerate(lugares):\n",
    "        print(lugares[pos])\n"
   ]
  }
 ],
 "metadata": {
  "kernelspec": {
   "display_name": "Python 3",
   "language": "python",
   "name": "python3"
  },
  "language_info": {
   "codemirror_mode": {
    "name": "ipython",
    "version": 3
   },
   "file_extension": ".py",
   "mimetype": "text/x-python",
   "name": "python",
   "nbconvert_exporter": "python",
   "pygments_lexer": "ipython3",
   "version": "3.12.2"
  }
 },
 "nbformat": 4,
 "nbformat_minor": 2
}
