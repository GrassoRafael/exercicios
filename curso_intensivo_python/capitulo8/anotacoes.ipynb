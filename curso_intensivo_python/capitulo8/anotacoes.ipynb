{
 "cells": [
  {
   "cell_type": "code",
   "execution_count": 6,
   "metadata": {},
   "outputs": [
    {
     "name": "stdout",
     "output_type": "stream",
     "text": [
      "Hello, Rafael\n",
      "Help on function greet_user in module __main__:\n",
      "\n",
      "greet_user(username)\n",
      "    Exibe um simples cumprimento\n",
      "\n"
     ]
    }
   ],
   "source": [
    "# greeter.py\n",
    "def greet_user(username):\n",
    "    \"\"\"\n",
    "    Exibe um simples cumprimento\n",
    "    \"\"\"\n",
    "    print(f'Hello, {username.title()}')\n",
    "\n",
    "greet_user('rafael')\n",
    "\n",
    "help(greet_user)"
   ]
  },
  {
   "cell_type": "code",
   "execution_count": 8,
   "metadata": {},
   "outputs": [
    {
     "name": "stdout",
     "output_type": "stream",
     "text": [
      "Jimi Hendrix\n",
      "John Lee Hooker\n"
     ]
    }
   ],
   "source": [
    "def get_formatted_name(fist_name, last_name, middle_name=''):\n",
    "    if middle_name:\n",
    "        print(fist_name, middle_name, last_name)\n",
    "    else:\n",
    "        print(fist_name, last_name)\n",
    "\n",
    "get_formatted_name('Jimi', 'Hendrix')\n",
    "get_formatted_name('John', 'Hooker', 'Lee')"
   ]
  },
  {
   "cell_type": "code",
   "execution_count": 12,
   "metadata": {},
   "outputs": [
    {
     "name": "stdout",
     "output_type": "stream",
     "text": [
      "{'first': 'Jimi', 'last': 'Hendrix'}\n"
     ]
    },
    {
     "data": {
      "text/plain": [
       "{'first': 'Jimi', 'last': 'Hendrix', 'age': 27}"
      ]
     },
     "execution_count": 12,
     "metadata": {},
     "output_type": "execute_result"
    }
   ],
   "source": [
    "# person.py\n",
    "def build_person(first_name, last_name, age=None):\n",
    "    \"\"\"Retorna um dicionário de informações sobre uma pessoa\"\"\"\n",
    "    person = {'first': first_name, 'last': last_name}\n",
    "    if age:\n",
    "        person['age'] = age\n",
    "    return person\n",
    "\n",
    "print(build_person('Jimi', 'Hendrix'))\n",
    "build_person('Jimi', 'Hendrix', 27)"
   ]
  },
  {
   "cell_type": "code",
   "execution_count": 15,
   "metadata": {},
   "outputs": [
    {
     "name": "stdout",
     "output_type": "stream",
     "text": [
      "Printing model: dodecahedron\n",
      "Printing model: robot pendant\n",
      "Printing model: phone case\n",
      "\n",
      "The following models have been printed:\n",
      "dodecahedron\n",
      "robot pendant\n",
      "phone case\n"
     ]
    }
   ],
   "source": [
    "# printing_models.py\n",
    "\n",
    "# Simula a impressão de casa design, até que não reste nenhum\n",
    "# Passa cada design para completed_models após impressão\n",
    "def print_models(unprinted_designs, completed_models):\n",
    "    \"\"\"\n",
    "    Simula a impressão de cada design, até que não reste mais nenhuma.\n",
    "    Passa cada design para completed_models após a impressão\n",
    "    \"\"\"\n",
    "    while unprinted_designs:\n",
    "        current_design = unprinted_designs.pop()\n",
    "        print(f'Printing model: {current_design}')\n",
    "        completed_models.append(current_design)\n",
    "\n",
    "\n",
    "# Exibe todos os modelos concluídos\n",
    "def show_completed_models(completed_models):\n",
    "    print('\\nThe following models have been printed:')\n",
    "    for complete_model in completed_models:\n",
    "        print(complete_model)\n",
    "\n",
    "\n",
    "# Alguns designs que precisam ser impressos.\n",
    "unprinted_designs = ['phone case', 'robot pendant', 'dodecahedron']\n",
    "completed_models = []\n",
    "\n",
    "print_models(unprinted_designs, completed_models)\n",
    "show_completed_models(completed_models)\n"
   ]
  },
  {
   "cell_type": "code",
   "execution_count": 3,
   "metadata": {},
   "outputs": [
    {
     "name": "stdout",
     "output_type": "stream",
     "text": [
      "\n",
      "Making a 16-inch pizza with the following toppings:\n",
      "- pepperoni\n",
      "\n",
      "Making a 12-inch pizza with the following toppings:\n",
      "- mushrooms\n",
      "- green peppers\n",
      "- extra cheese\n"
     ]
    }
   ],
   "source": [
    "# pizza.py\n",
    "def make_pizza(size, *toppings):\n",
    "    \"\"\"\n",
    "    Synthesize a pizza we'are about to make\n",
    "    \"\"\"\n",
    "    print(f'\\nMaking a {size}-inch pizza with the following toppings:')\n",
    "    for topping in toppings:\n",
    "        print(f'- {topping}')\n",
    "\n",
    "\n",
    "make_pizza(16, 'pepperoni')\n",
    "make_pizza(12, 'mushrooms', 'green peppers', 'extra cheese')\n"
   ]
  },
  {
   "cell_type": "code",
   "execution_count": 4,
   "metadata": {},
   "outputs": [
    {
     "name": "stdout",
     "output_type": "stream",
     "text": [
      "{'location': 'princeton', 'field': 'physics', 'first_name': 'albert', 'last_name': 'einstein'}\n"
     ]
    }
   ],
   "source": [
    "# user info.py\n",
    "def build_profile(first, last, **user_info):\n",
    "    \"\"\"\n",
    "    Creates a dictionary containing everything we know about the user\n",
    "    \"\"\"\n",
    "    user_info['first_name'] = first\n",
    "    user_info['last_name'] = last\n",
    "    return user_info\n",
    "\n",
    "\n",
    "user_profile = build_profile('albert', 'einstein',\n",
    "                             location='princeton',\n",
    "                             field='physics')\n",
    "print(user_profile)\n"
   ]
  }
 ],
 "metadata": {
  "kernelspec": {
   "display_name": "Python 3",
   "language": "python",
   "name": "python3"
  },
  "language_info": {
   "codemirror_mode": {
    "name": "ipython",
    "version": 3
   },
   "file_extension": ".py",
   "mimetype": "text/x-python",
   "name": "python",
   "nbconvert_exporter": "python",
   "pygments_lexer": "ipython3",
   "version": "3.12.2"
  }
 },
 "nbformat": 4,
 "nbformat_minor": 2
}
