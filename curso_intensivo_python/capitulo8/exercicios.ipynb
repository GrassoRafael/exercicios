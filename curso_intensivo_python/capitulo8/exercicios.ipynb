{
 "cells": [
  {
   "cell_type": "code",
   "execution_count": 2,
   "metadata": {},
   "outputs": [
    {
     "name": "stdout",
     "output_type": "stream",
     "text": [
      "A mensagem inserida foi: \n",
      "Olá, Mundo!\n"
     ]
    }
   ],
   "source": [
    "# 8.1 Message\n",
    "def display_message(phrase):\n",
    "    \"\"\"\n",
    "    Exibe a mensagem inserida\n",
    "    \"\"\"\n",
    "    print(f'A mensagem inserida foi: \\n{phrase}')\n",
    "\n",
    "display_message('Olá, Mundo!')"
   ]
  },
  {
   "cell_type": "code",
   "execution_count": 3,
   "metadata": {},
   "outputs": [
    {
     "name": "stdout",
     "output_type": "stream",
     "text": [
      "Seu livro favorito é: \n",
      "Alice no país das maravilhas\n"
     ]
    }
   ],
   "source": [
    "# 8.2 Livro Favorito\n",
    "def favorite_book(title):\n",
    "    \"\"\"\n",
    "    Função que imprime o título do seu livro favorito\n",
    "    \"\"\"\n",
    "    print(f'Seu livro favorito é: \\n{title}')\n",
    "\n",
    "favorite_book('Alice no país das maravilhas')"
   ]
  },
  {
   "cell_type": "code",
   "execution_count": 11,
   "metadata": {},
   "outputs": [
    {
     "name": "stdout",
     "output_type": "stream",
     "text": [
      "The shirt size is: 30 \n",
      "And the text printed I love Python\n",
      "\n",
      "The shirt size is: 22 \n",
      "And the text printed Pythonics\n"
     ]
    }
   ],
   "source": [
    "# 8.3 e 8.4 Camiseta\n",
    "def make_shirt(text, size=30):\n",
    "    print(f\"The shirt size is: {size} \\nAnd the text printed {text}\")\n",
    "\n",
    "make_shirt('I love Python')\n",
    "print()\n",
    "make_shirt(text='Pythonics', size=22)\n"
   ]
  },
  {
   "cell_type": "code",
   "execution_count": 15,
   "metadata": {},
   "outputs": [
    {
     "name": "stdout",
     "output_type": "stream",
     "text": [
      "The city of Vila Velha is on Brazil\n",
      "The city of Rio de Janeiro is on Brazil\n",
      "The city of Tokyo is on Japan\n"
     ]
    }
   ],
   "source": [
    "# 8.5 Cities\n",
    "def describe_city(city, country='Brazil'):\n",
    "    print(f'The city of {city} is on {country}')\n",
    "\n",
    "describe_city('Vila Velha')\n",
    "describe_city('Rio de Janeiro')\n",
    "describe_city('Tokyo', 'Japan')"
   ]
  },
  {
   "cell_type": "code",
   "execution_count": 18,
   "metadata": {},
   "outputs": [
    {
     "name": "stdout",
     "output_type": "stream",
     "text": [
      "Paris , France\n",
      "Tokyo , Japan\n",
      "Rio De Janeiro , Brazil\n"
     ]
    }
   ],
   "source": [
    "# 8.6 nome da cidade\n",
    "def city_country(city, country):\n",
    "    print(city,',', country)\n",
    "\n",
    "active = True\n",
    "\n",
    "while active:\n",
    "    city = input('Enter the city: ').title()\n",
    "    country = input('Enter the country: ').title()\n",
    "    city_country(city, country)\n",
    "\n",
    "    conti = input('Do you want to continue? (y/n) ')\n",
    "    if conti == 'n':\n",
    "        break"
   ]
  },
  {
   "cell_type": "code",
   "execution_count": 19,
   "metadata": {},
   "outputs": [
    {
     "name": "stdout",
     "output_type": "stream",
     "text": [
      "{'Name': 'Beyoncé', 'Title': 'Lemonade'}\n",
      "{'Name': 'Michael Jackson', 'Title': 'Thriller'}\n",
      "{'Name': 'Taylor Swift', 'Title': '1989'}\n"
     ]
    }
   ],
   "source": [
    "# 8.7 Album\n",
    "def make_album(name, album_title):\n",
    "    album = {'Name': name, 'Title': album_title}\n",
    "    print(album)\n",
    "\n",
    "make_album('Beyoncé', 'Lemonade')\n",
    "make_album('Michael Jackson', 'Thriller')\n",
    "make_album('Taylor Swift', '1989')"
   ]
  },
  {
   "cell_type": "code",
   "execution_count": 10,
   "metadata": {},
   "outputs": [
    {
     "name": "stdout",
     "output_type": "stream",
     "text": [
      "Hey, just wanted to say hi and see how you're doing!\n",
      "Running a bit late, be there soon!\n",
      "Hope your day is going well! Let's catch up later.\n",
      "Just saw something that reminded me of you, made me smile 😊\n",
      "Thinking of you. Hope everything's going smoothly on your end.\n",
      "\n",
      "[\"Hey, just wanted to say hi and see how you're doing!\", 'Running a bit late, be there soon!', \"Hope your day is going well! Let's catch up later.\", 'Just saw something that reminded me of you, made me smile 😊', \"Thinking of you. Hope everything's going smoothly on your end.\"]\n",
      "[\"Hey, just wanted to say hi and see how you're doing!\", 'Running a bit late, be there soon!', \"Hope your day is going well! Let's catch up later.\", 'Just saw something that reminded me of you, made me smile 😊', \"Thinking of you. Hope everything's going smoothly on your end.\"]\n"
     ]
    }
   ],
   "source": [
    "# 8.9 Mensagens, 8.10 Enviando Mensagens, 8.11 Mensagens Aqruivadas:\n",
    "messages = [\n",
    "    \"Hey, just wanted to say hi and see how you're doing!\",\n",
    "    \"Running a bit late, be there soon!\",\n",
    "    \"Hope your day is going well! Let's catch up later.\",\n",
    "    \"Just saw something that reminded me of you, made me smile 😊\",\n",
    "    \"Thinking of you. Hope everything's going smoothly on your end.\"\n",
    "]\n",
    "\n",
    "messages_sent = []\n",
    "\n",
    "# função\n",
    "def show_messages(messages, messages_sent):\n",
    "    \"\"\"\n",
    "    Mostra\n",
    "    \"\"\"\n",
    "    while messages:\n",
    "        messages_sent.append(messages.pop(0))\n",
    "        print(messages_sent[-1])\n",
    "        \n",
    "\n",
    "show_messages(messages[:], messages_sent)\n",
    "\n",
    "print()\n",
    "print(messages)\n",
    "print(messages_sent)"
   ]
  },
  {
   "cell_type": "code",
   "execution_count": 22,
   "metadata": {},
   "outputs": [
    {
     "name": "stdout",
     "output_type": "stream",
     "text": [
      "\n",
      "Your sandwitch is made of:\n",
      "- bread\n",
      "- cheese\n",
      "- lettuce\n",
      "\n",
      "Your sandwitch is made of:\n",
      "- bread\n",
      "- ham\n",
      "- cheese\n",
      "- lettuce\n",
      "- tomato\n",
      "\n",
      "Your sandwitch is made of:\n",
      "- bread\n",
      "- turkey\n",
      "- bacon\n",
      "- avocado\n",
      "- swiss cheese\n",
      "- lettuce\n",
      "- tomato\n",
      "- mayonnaise\n"
     ]
    }
   ],
   "source": [
    "# 8.12 Sanduíches\n",
    "def sandwitches(*ingredients):\n",
    "    print(f'\\nYour sandwitch is made of:')\n",
    "    for ingredient in ingredients:\n",
    "        print(f'- {ingredient}')\n",
    "\n",
    "sandwitches(\"bread\", \"cheese\", \"lettuce\")\n",
    "sandwitches(\"bread\", \"ham\", \"cheese\", \"lettuce\", \"tomato\")\n",
    "sandwitches(\"bread\", \"turkey\", \"bacon\", \"avocado\", \"swiss cheese\", \"lettuce\", \"tomato\", \"mayonnaise\")\n"
   ]
  },
  {
   "cell_type": "code",
   "execution_count": 23,
   "metadata": {},
   "outputs": [
    {
     "name": "stdout",
     "output_type": "stream",
     "text": [
      "{'city': 'Vila Velha', 'fav_animal': 'Cat', 'fav_food': 'Fricassê', 'first_name': 'Rafael', 'last_name': 'Grasso'}\n"
     ]
    }
   ],
   "source": [
    "# 8.13 Perfil de Usuário\n",
    "# user info.py\n",
    "def build_profile(first, last, **user_info):\n",
    "    \"\"\"\n",
    "    Creates a dictionary containing everything we know about the user\n",
    "    \"\"\"\n",
    "    user_info['first_name'] = first\n",
    "    user_info['last_name'] = last\n",
    "    return user_info\n",
    "\n",
    "\n",
    "user_profile = build_profile('Rafael', 'Grasso',\n",
    "                             city='Vila Velha',\n",
    "                             fav_animal='Cat',\n",
    "                             fav_food='Fricassê')\n",
    "print(user_profile)"
   ]
  },
  {
   "cell_type": "code",
   "execution_count": 26,
   "metadata": {},
   "outputs": [
    {
     "name": "stdout",
     "output_type": "stream",
     "text": [
      "{'doors': '3', 'color': 'silver', 'year': '2004', 'clas': 'personal', 'brand': 'chevrolet', 'model': 'celta'}\n"
     ]
    }
   ],
   "source": [
    "# 8.14 Carros\n",
    "def make_car(brand, model, **car_info):\n",
    "    \"\"\"\n",
    "    Creates an information dictionaty for a car\n",
    "    \"\"\"\n",
    "    car_info['brand'] = brand\n",
    "    car_info['model'] = model\n",
    "    return car_info\n",
    "\n",
    "\n",
    "print(make_car('chevrolet', 'celta',\n",
    "               doors='3',\n",
    "               color='silver',\n",
    "               year='2004',\n",
    "               clas='personal'))\n"
   ]
  }
 ],
 "metadata": {
  "kernelspec": {
   "display_name": "Python 3",
   "language": "python",
   "name": "python3"
  },
  "language_info": {
   "codemirror_mode": {
    "name": "ipython",
    "version": 3
   },
   "file_extension": ".py",
   "mimetype": "text/x-python",
   "name": "python",
   "nbconvert_exporter": "python",
   "pygments_lexer": "ipython3",
   "version": "3.12.2"
  }
 },
 "nbformat": 4,
 "nbformat_minor": 2
}
