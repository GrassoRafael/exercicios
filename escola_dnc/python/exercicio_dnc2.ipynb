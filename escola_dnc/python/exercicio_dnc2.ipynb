{
 "cells": [
  {
   "cell_type": "code",
   "execution_count": 2,
   "metadata": {},
   "outputs": [
    {
     "name": "stdout",
     "output_type": "stream",
     "text": [
      "====================  Digite um produto a ser inserido:   ====================\n",
      "Banana foi adicionado(a) a lista\n",
      "Deseja Continuar? s\n",
      "\n",
      "====================  Digite um produto a ser inserido:   ====================\n",
      "Maçã foi adicionado(a) a lista\n",
      "Deseja Continuar? s\n",
      "\n",
      "====================  Digite um produto a ser inserido:   ====================\n",
      "Ovo foi adicionado(a) a lista\n",
      "Deseja Continuar? s\n",
      "\n",
      "====================  Digite um produto a ser inserido:   ====================\n",
      "Geleia foi adicionado(a) a lista\n",
      "Deseja Continuar? s\n",
      "\n",
      "====================  Digite um produto a ser inserido:   ====================\n",
      "Macarrão foi adicionado(a) a lista\n",
      "Deseja Continuar? s\n",
      "\n",
      "====================  Digite um produto a ser inserido:   ====================\n",
      "O valor Banana já está na lista\n",
      "Deseja Continuar? s\n",
      "\n",
      "====================  Digite um produto a ser inserido:   ====================\n",
      "Queijo foi adicionado(a) a lista\n",
      "Deseja Continuar? n\n",
      "\n",
      "Segue sua lista abaixo: \n",
      "['Banana', 'Maçã', 'Ovo', 'Geleia', 'Macarrão', 'Queijo']\n"
     ]
    }
   ],
   "source": [
    "# Listas\n",
    "l1 = list()\n",
    "\n",
    "# Loop para adição de novos itens na lista\n",
    "fim = 's'\n",
    "\n",
    "while fim == 's':\n",
    "    print('=' * 20, ' Digite um produto a ser inserido:  ', '=' * 20)\n",
    "    ult_valor = input('Digite um produto: ').strip().title()\n",
    "\n",
    "    if ult_valor in l1:\n",
    "        print(f'O valor {ult_valor} já está na lista')\n",
    "    else:\n",
    "        l1.append(ult_valor)\n",
    "        print(f'{ult_valor} foi adicionado(a) a lista')\n",
    "\n",
    "    fim = input('Gostaria de inserir mais produtos? (s/n)? ').strip().lower()\n",
    "    print(f'Deseja Continuar? {fim}')\n",
    "    print()\n",
    "\n",
    "print(f'Segue sua lista abaixo: \\n{l1}')"
   ]
  }
 ],
 "metadata": {
  "kernelspec": {
   "display_name": "Python 3",
   "language": "python",
   "name": "python3"
  },
  "language_info": {
   "codemirror_mode": {
    "name": "ipython",
    "version": 3
   },
   "file_extension": ".py",
   "mimetype": "text/x-python",
   "name": "python",
   "nbconvert_exporter": "python",
   "pygments_lexer": "ipython3",
   "version": "3.12.2"
  }
 },
 "nbformat": 4,
 "nbformat_minor": 2
}
