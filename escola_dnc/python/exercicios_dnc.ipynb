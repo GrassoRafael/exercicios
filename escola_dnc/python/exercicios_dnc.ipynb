{
 "cells": [
  {
   "cell_type": "code",
   "execution_count": 9,
   "metadata": {},
   "outputs": [
    {
     "name": "stdout",
     "output_type": "stream",
     "text": [
      "========================================Bem vindo ao Mec Donaldo=========================================\n",
      "......Escolha um produto 🍔 Lanche R$10.90 - 🥤 Refri R$5.40 - 🍟 Batata R$8.30 - 🍬 Bombom R$3.40......\n",
      "Você escolheu Lanche\n",
      "Você quer 2 Lanche(s)\n",
      "Total de R$21.80\n",
      "\n",
      "......Escolha um produto 🍔 Lanche R$10.90 - 🥤 Refri R$5.40 - 🍟 Batata R$8.30 - 🍬 Bombom R$3.40......\n",
      "Você escolheu Refri\n",
      "Você quer 1 Refri(s)\n",
      "Total de R$5.40\n",
      "\n",
      "......Escolha um produto 🍔 Lanche R$10.90 - 🥤 Refri R$5.40 - 🍟 Batata R$8.30 - 🍬 Bombom R$3.40......\n",
      "Você escolheu Batata\n",
      "Você quer 2 Batata(s)\n",
      "Total de R$16.60\n",
      "\n",
      "......Escolha um produto 🍔 Lanche R$10.90 - 🥤 Refri R$5.40 - 🍟 Batata R$8.30 - 🍬 Bombom R$3.40......\n",
      "Você escolheu Bombom\n",
      "Você quer 4 Bombom(s)\n",
      "Total de R$13.60\n",
      "\n",
      "O total da compra foi de R$57.40\n"
     ]
    }
   ],
   "source": [
    "# Declarando as listas\n",
    "preco = (10.9, 5.40, 8.30, 3.40)\n",
    "produto = ['Lanche', 'Refri', 'Batata', 'Bombom']\n",
    "total = []\n",
    "\n",
    "print(f'{\"Bem vindo ao Mec Donaldo\":=^105}')\n",
    "\n",
    "# Loop da informação escolhida\n",
    "for i, valor in enumerate(preco):\n",
    "\n",
    "    print(f'{\"Escolha um produto 🍔 Lanche R$10.90 - 🥤 Refri R$5.40 - 🍟 Batata R$8.30 - 🍬 Bombom R$3.40\":.^100}')\n",
    "    escolha = produto.index(input('Digite o produto que deseja: ').strip().title())\n",
    "    print(f'Você escolheu {produto[escolha]}')\n",
    "\n",
    "    qtd = int(input('Digite a quantidade que deseja comprar: '))\n",
    "    print(f'Você quer {qtd} {produto[escolha]}(s)')\n",
    "    print(f'Total de R${qtd * preco[escolha]:.2f}')\n",
    "\n",
    "    total.append(qtd * preco[escolha])\n",
    "\n",
    "    continuar = input('Deseja continuar comprando? (s/n): ').strip().lower()\n",
    "    print()\n",
    "    if continuar == 'n':\n",
    "        break\n",
    "\n",
    "print(f'O total da compra foi de R${sum(total[0:]):.2f}')"
   ]
  }
 ],
 "metadata": {
  "kernelspec": {
   "display_name": "Python 3",
   "language": "python",
   "name": "python3"
  },
  "language_info": {
   "codemirror_mode": {
    "name": "ipython",
    "version": 3
   },
   "file_extension": ".py",
   "mimetype": "text/x-python",
   "name": "python",
   "nbconvert_exporter": "python",
   "pygments_lexer": "ipython3",
   "version": "3.12.2"
  }
 },
 "nbformat": 4,
 "nbformat_minor": 2
}
