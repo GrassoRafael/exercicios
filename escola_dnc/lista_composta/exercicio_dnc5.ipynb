{
 "cells": [
  {
   "cell_type": "code",
   "execution_count": 4,
   "metadata": {},
   "outputs": [
    {
     "name": "stdout",
     "output_type": "stream",
     "text": [
      " Por favor, digite as informações do cliente \n",
      "Confira as informações do cliente: ['Rafael', 'rafael@email.com', '987654321', 25]\n",
      "Você escolheu continuar, insira as informações do próximo cliente\n",
      "\n",
      " Por favor, digite as informações do cliente \n",
      "Confira as informações do cliente: ['Natasha', 'natasha@email.com', '987654321', 26]\n",
      "Você escolheu continuar, insira as informações do próximo cliente\n",
      "\n",
      " Por favor, digite as informações do cliente \n",
      "Confira as informações do cliente: ['Anderson', 'anderson@email.com', '123456789', 32]\n",
      "Você escolheu continuar, insira as informações do próximo cliente\n",
      "\n",
      " Por favor, digite as informações do cliente \n",
      "Confira as informações do cliente: ['Vinicius', 'vinicius@email.com', '90865432', 21]\n",
      "\n",
      "Segue a lista de clientes andicionados: \n",
      "[['Rafael', 'rafael@email.com', '987654321', 25], ['Natasha', 'natasha@email.com', '987654321', 26], ['Anderson', 'anderson@email.com', '123456789', 32], ['Vinicius', 'vinicius@email.com', '90865432', 21]]\n"
     ]
    }
   ],
   "source": [
    "# Lista\n",
    "info_cliente = list()\n",
    "lista_suporte = list()\n",
    "\n",
    "# Variáveis\n",
    "fim = 's'\n",
    "\n",
    "# Loop de repetição para colher infomações de cada cliente - Nome, Email, telefone e idade\n",
    "while fim == 's':\n",
    "    print(f'{\" Por favor, digite as informações do cliente \":=^40}')\n",
    "    lista_suporte.append(input('Digite o nome do cliente: ').strip().title())\n",
    "    lista_suporte.append(input('Digite o email do cliente: ').strip().lower())\n",
    "    lista_suporte.append(input('Digite o telefone do cliente: ').strip())\n",
    "    lista_suporte.append(int(input('Digite a idade do cliente: ').strip()))\n",
    "    \n",
    "\n",
    "    print(f'Confira as informações do cliente: {lista_suporte}')\n",
    "\n",
    "    info_cliente.append(lista_suporte[:]) # Adicionando as infomações da lista de suporte a principal\n",
    "    lista_suporte.clear() # Limpando lista de suporte\n",
    "\n",
    "    fim = input(f'Você já inseriu {len(info_cliente)} clientes na lista, deseja continuar? (s/n): ').strip().lower()\n",
    "    if fim == 's':\n",
    "        print('Você escolheu continuar, insira as informações do próximo cliente')\n",
    "    print()\n",
    "print(f'Segue a lista de clientes andicionados: \\n{info_cliente}')\n"
   ]
  }
 ],
 "metadata": {
  "kernelspec": {
   "display_name": "Python 3",
   "language": "python",
   "name": "python3"
  },
  "language_info": {
   "codemirror_mode": {
    "name": "ipython",
    "version": 3
   },
   "file_extension": ".py",
   "mimetype": "text/x-python",
   "name": "python",
   "nbconvert_exporter": "python",
   "pygments_lexer": "ipython3",
   "version": "3.12.2"
  }
 },
 "nbformat": 4,
 "nbformat_minor": 2
}
