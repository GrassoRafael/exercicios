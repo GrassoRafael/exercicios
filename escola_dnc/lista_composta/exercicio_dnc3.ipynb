{
 "cells": [
  {
   "cell_type": "code",
   "execution_count": 3,
   "metadata": {},
   "outputs": [
    {
     "name": "stdout",
     "output_type": "stream",
     "text": [
      "======= Cardapio ========\n",
      "Lanche 🍔.. R$10.9......\n",
      "Batata 🍟.. R$5.5.......\n",
      "Refri 🥤... R$3.9.......\n"
     ]
    }
   ],
   "source": [
    "# Definindo as listas\n",
    "cardapio = [['Lanche 🍔', 10.9], ['Batata 🍟',  5.5], ['Refri 🥤' ,  3.9]]\n",
    "\n",
    "# Loop de montagem do cardápio\n",
    "print(f'{\" Cardapio \":=^25}')\n",
    "for i in range(0, len(cardapio)):\n",
    "    print(f'{cardapio[i][0]:.<10}', f'R${cardapio[i][1]:.<10}')"
   ]
  }
 ],
 "metadata": {
  "kernelspec": {
   "display_name": "Python 3",
   "language": "python",
   "name": "python3"
  },
  "language_info": {
   "codemirror_mode": {
    "name": "ipython",
    "version": 3
   },
   "file_extension": ".py",
   "mimetype": "text/x-python",
   "name": "python",
   "nbconvert_exporter": "python",
   "pygments_lexer": "ipython3",
   "version": "3.12.2"
  }
 },
 "nbformat": 4,
 "nbformat_minor": 2
}
