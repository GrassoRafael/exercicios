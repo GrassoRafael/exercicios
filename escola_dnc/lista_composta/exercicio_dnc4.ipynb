{
 "cells": [
  {
   "cell_type": "code",
   "execution_count": 4,
   "metadata": {},
   "outputs": [
    {
     "name": "stdout",
     "output_type": "stream",
     "text": [
      "=============== Cardápio ===============\n",
      "Lanche R$10.9\n",
      "Você deseja 2 Lanche(s)\n",
      "O valor até agora é de R$21.8\n",
      "\n",
      "Batata R$5.5\n",
      "Você deseja 1 Batata(s)\n",
      "O valor até agora é de R$27.3\n",
      "\n",
      "Refri R$3.9\n",
      "Você deseja 0 Refri(s)\n",
      "O valor até agora é de R$27.3\n",
      "\n",
      "Você comprou 3 itens \n",
      "O valor total da compra foi de R$27.30\n"
     ]
    }
   ],
   "source": [
    "# Lista\n",
    "cardapio = [['Lanche', 10.9], ['Batata',  5.5], ['Refri' ,  3.9]]\n",
    "\n",
    "# Variável\n",
    "soma = 0\n",
    "count = 0\n",
    "\n",
    "# Loop de amostragem do cardápio\n",
    "print(f'{\" Cardápio \":=^40}')\n",
    "\n",
    "for i, valor in enumerate(cardapio):\n",
    "    print(f'{cardapio[i][0]}', f'R${cardapio[i][1]}')\n",
    "\n",
    "    qtd = int(input(f'Quantos {cardapio[i][0]} deseja? '))\n",
    "    print(f'Você deseja {qtd} {cardapio[i][0]}(s)')\n",
    "    soma += (qtd * cardapio[i][1])\n",
    "    print(f'O valor até agora é de R${soma}')\n",
    "    \n",
    "    print()\n",
    "    count += qtd\n",
    "\n",
    "print(f'Você comprou {count} itens \\nO valor total da compra foi de R${soma:.2f}')"
   ]
  }
 ],
 "metadata": {
  "kernelspec": {
   "display_name": "Python 3",
   "language": "python",
   "name": "python3"
  },
  "language_info": {
   "codemirror_mode": {
    "name": "ipython",
    "version": 3
   },
   "file_extension": ".py",
   "mimetype": "text/x-python",
   "name": "python",
   "nbconvert_exporter": "python",
   "pygments_lexer": "ipython3",
   "version": "3.12.2"
  }
 },
 "nbformat": 4,
 "nbformat_minor": 2
}
