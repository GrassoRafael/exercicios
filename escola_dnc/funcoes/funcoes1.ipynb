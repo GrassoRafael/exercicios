{
 "cells": [
  {
   "cell_type": "code",
   "execution_count": 2,
   "metadata": {},
   "outputs": [
    {
     "name": "stdout",
     "output_type": "stream",
     "text": [
      "======Verifique se o número é par=======\n",
      "O número 5 é par? False\n"
     ]
    }
   ],
   "source": [
    "# Exercício 2\n",
    "# Faça uma função que verifica se o número é par. O retorno deve ser um booleano\n",
    "\n",
    "# Função para verificar se número é par\n",
    "def par(a):\n",
    "    if a % 2 == 0:\n",
    "        a = True\n",
    "    else:\n",
    "        a = False\n",
    "    return a\n",
    "\n",
    "\n",
    "# Programa principal\n",
    "print(f'{\"Verifique se o número é par\":=^40}')\n",
    "n = int(input('Insira um número: '))\n",
    "\n",
    "print(f'O número {n} é par? {par(n)}')"
   ]
  }
 ],
 "metadata": {
  "kernelspec": {
   "display_name": "Python 3",
   "language": "python",
   "name": "python3"
  },
  "language_info": {
   "codemirror_mode": {
    "name": "ipython",
    "version": 3
   },
   "file_extension": ".py",
   "mimetype": "text/x-python",
   "name": "python",
   "nbconvert_exporter": "python",
   "pygments_lexer": "ipython3",
   "version": "3.12.2"
  }
 },
 "nbformat": 4,
 "nbformat_minor": 2
}
