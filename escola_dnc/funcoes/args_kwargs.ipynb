{
 "cells": [
  {
   "cell_type": "code",
   "execution_count": 7,
   "metadata": {},
   "outputs": [
    {
     "name": "stdout",
     "output_type": "stream",
     "text": [
      "O total da sua compra foi de: R$63.25\n"
     ]
    }
   ],
   "source": [
    "# Função para cálculo das compras feitas\n",
    "\n",
    "def mercado(compra1, compra2=0, compra3=0, compra4=0):\n",
    "    \"\"\"Retorna a soma de todos os valores inseridos\"\"\"\n",
    "    compras = f\"O total da sua compra foi de: R${compra1 + compra2 +\n",
    "                                                compra3 + compra4}\"\n",
    "    return compras\n",
    "\n",
    "\n",
    "compras = mercado(25, 33.25, 5)\n",
    "print(compras)"
   ]
  },
  {
   "cell_type": "code",
   "execution_count": 16,
   "metadata": {},
   "outputs": [
    {
     "name": "stdout",
     "output_type": "stream",
     "text": [
      "()\n",
      "O total da sua compra foi de: R$0\n"
     ]
    }
   ],
   "source": [
    "# Função para cálculo das compras feitas\n",
    "\n",
    "def mercado(*arg): # *args = x argumentos inseridos\n",
    "    \"\"\"Retorna a soma de todos os valores inseridos\"\"\"\n",
    "    print(arg) # print da tupla\n",
    "\n",
    "    soma = 0\n",
    "    for v in arg: # Para cada valor na tupla *arg, some o valor.\n",
    "        soma += v\n",
    "\n",
    "    compras = f\"O total da sua compra foi de: R${soma}\"\n",
    "    return compras\n",
    "\n",
    "\n",
    "compras = mercado()\n",
    "print(compras)"
   ]
  },
  {
   "cell_type": "code",
   "execution_count": 10,
   "metadata": {},
   "outputs": [
    {
     "name": "stdout",
     "output_type": "stream",
     "text": [
      "{'compra_1': 55, 'compra_2': 10.5, 'compra_3': 33.6, 'compra_4': 2.22}\n",
      "Sua compra_1 ficou no valor de: R$55\n",
      "Sua compra_2 ficou no valor de: R$10.5\n",
      "Sua compra_3 ficou no valor de: R$33.6\n",
      "Sua compra_4 ficou no valor de: R$2.22\n",
      "O total da sua compra foi de: R$101.32\n",
      "\n",
      "O valor da compra 2 é de: R$10.5\n"
     ]
    }
   ],
   "source": [
    "# Função para cálculo das compras feitas\n",
    "\n",
    "def mercado(**kwarg): # kw = KeyWord ou seja KeyWord dos Argumentos\n",
    "    \"\"\"Retorna a soma de todos os valores inseridos\"\"\"\n",
    "    print(kwarg) # print do dicionario\n",
    "\n",
    "    soma = 0\n",
    "    for k, v in kwarg.items(): # Para cada key e valor, mostre key e valor.\n",
    "        soma += v\n",
    "        print(f\"Sua {k} ficou no valor de: R${v}\")\n",
    "        \n",
    "    print(f\"O total da sua compra foi de: R${soma}\\n\")\n",
    "    return kwarg\n",
    "\n",
    "compras = mercado(compra_1=55, compra_2=10.50, compra_3=33.60, compra_4=2.22)\n",
    "\n",
    "# Print das compras individuais\n",
    "print(f\"O valor da compra 2 é de: R${compras[\"compra_2\"]}\")\n"
   ]
  }
 ],
 "metadata": {
  "kernelspec": {
   "display_name": "Python 3",
   "language": "python",
   "name": "python3"
  },
  "language_info": {
   "codemirror_mode": {
    "name": "ipython",
    "version": 3
   },
   "file_extension": ".py",
   "mimetype": "text/x-python",
   "name": "python",
   "nbconvert_exporter": "python",
   "pygments_lexer": "ipython3",
   "version": "3.12.2"
  }
 },
 "nbformat": 4,
 "nbformat_minor": 2
}
