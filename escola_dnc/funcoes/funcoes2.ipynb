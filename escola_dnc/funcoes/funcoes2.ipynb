{
 "cells": [
  {
   "cell_type": "code",
   "execution_count": 1,
   "metadata": {},
   "outputs": [
    {
     "name": "stdout",
     "output_type": "stream",
     "text": [
      "Converta uma string em algo diferente\n",
      "Você gostaria de converter 66 para float\n",
      "\n",
      "Seu valor original era <class 'str'>\n",
      "Com a conversão 66 se tornou <class 'float'>\n"
     ]
    }
   ],
   "source": [
    "# Exercício 3\n",
    "# Faça uma função que peça um input para o usuário, valide o tipo do input e retorne o valor já transformado\n",
    "\n",
    "# Função para determinar o tipo de input do usuário\n",
    "def tipo(valor, conver):\n",
    "    transform = eval(conver)(valor)\n",
    "    return transform\n",
    "\n",
    "\n",
    "# Programa principal\n",
    "print('Converta uma string em algo diferente')\n",
    "valor = input('Digite algo: ')\n",
    "form = input('Digite a formatação: ').lower()\n",
    "print(f'Você gostaria de converter {valor} para {form}')\n",
    "\n",
    "print(f'\\nSeu valor original era {type(valor)}')\n",
    "print(f'Com a conversão {valor} se tornou {type(tipo(valor, form))}')\n"
   ]
  }
 ],
 "metadata": {
  "kernelspec": {
   "display_name": "Python 3",
   "language": "python",
   "name": "python3"
  },
  "language_info": {
   "codemirror_mode": {
    "name": "ipython",
    "version": 3
   },
   "file_extension": ".py",
   "mimetype": "text/x-python",
   "name": "python",
   "nbconvert_exporter": "python",
   "pygments_lexer": "ipython3",
   "version": "3.12.2"
  }
 },
 "nbformat": 4,
 "nbformat_minor": 2
}
