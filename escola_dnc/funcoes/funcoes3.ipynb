{
 "cells": [
  {
   "cell_type": "code",
   "execution_count": 2,
   "metadata": {},
   "outputs": [
    {
     "name": "stdout",
     "output_type": "stream",
     "text": [
      "A soma, média o maior e menor número da\n",
      "lista [4, 3, 5, 1, 10, 25, 9] são os a seguir: (57, 8.14, 25, 1)\n"
     ]
    }
   ],
   "source": [
    "# Exercício 4\n",
    "# Faça uma função que dada um lista de números, ela retorne:\n",
    "\n",
    "# A média dos números\n",
    "# A soma dos números\n",
    "# O menor valor\n",
    "# O maior valor\n",
    "\n",
    "# Função para retornar médias, soma o maior e o menor valor de uma lista\n",
    "def inf(lista):\n",
    "    # Variáveis\n",
    "    soma = 0\n",
    "    med = 0\n",
    "    maior = 0\n",
    "    menor = 999999999\n",
    "\n",
    "    # Calculando a lista\n",
    "    for valor in lista:\n",
    "        soma += valor\n",
    "\n",
    "        if valor > maior:\n",
    "            maior = valor\n",
    "        elif valor < menor:\n",
    "            menor = valor\n",
    "\n",
    "    # Calculando a média\n",
    "    med = round(soma / len(lista), 2)\n",
    "\n",
    "    return soma, med, maior, menor\n",
    "\n",
    "\n",
    "# Programa principal\n",
    "lista = [4, 3, 5, 1, 10, 25, 9]\n",
    "\n",
    "print(f'A soma, média o maior e menor número da\\nlista {lista} são os a seguir: {inf(lista)}')"
   ]
  }
 ],
 "metadata": {
  "kernelspec": {
   "display_name": "Python 3",
   "language": "python",
   "name": "python3"
  },
  "language_info": {
   "codemirror_mode": {
    "name": "ipython",
    "version": 3
   },
   "file_extension": ".py",
   "mimetype": "text/x-python",
   "name": "python",
   "nbconvert_exporter": "python",
   "pygments_lexer": "ipython3",
   "version": "3.12.2"
  }
 },
 "nbformat": 4,
 "nbformat_minor": 2
}
