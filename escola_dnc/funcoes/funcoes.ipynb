{
 "cells": [
  {
   "cell_type": "code",
   "execution_count": 2,
   "metadata": {},
   "outputs": [
    {
     "name": "stdout",
     "output_type": "stream",
     "text": [
      "O número 5 elevado a potência 2 é: 25\n"
     ]
    }
   ],
   "source": [
    "# Exercício 1\n",
    "# Faça uma função que calcule fatorial de um número\n",
    "\n",
    "# Função de cálculo de fatorial\n",
    "def fat(a, b):\n",
    "    f = a ** b\n",
    "    return f\n",
    "\n",
    "\n",
    "# Programa principal\n",
    "n1 = int(input('Digite um número: '))\n",
    "n2 = int(input('Digite um fator: '))\n",
    "\n",
    "print(f'O número {n1} elevado a potência {n2} é: {fat(n1, n2)}')"
   ]
  }
 ],
 "metadata": {
  "kernelspec": {
   "display_name": "Python 3",
   "language": "python",
   "name": "python3"
  },
  "language_info": {
   "codemirror_mode": {
    "name": "ipython",
    "version": 3
   },
   "file_extension": ".py",
   "mimetype": "text/x-python",
   "name": "python",
   "nbconvert_exporter": "python",
   "pygments_lexer": "ipython3",
   "version": "3.12.2"
  }
 },
 "nbformat": 4,
 "nbformat_minor": 2
}
