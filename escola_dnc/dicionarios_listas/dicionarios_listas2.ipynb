{
 "cells": [
  {
   "cell_type": "code",
   "execution_count": 1,
   "metadata": {},
   "outputs": [
    {
     "name": "stdout",
     "output_type": "stream",
     "text": [
      "Everton comprou 3 maça(s) no valor de R$2.2 cada e o resultado final foi de R$6.60\n",
      "Everton comprou 10 banana(s) no valor de R$1.2 cada e o resultado final foi de R$12.00\n",
      "As compras do everton ficaram no valor de R$18.60\n"
     ]
    }
   ],
   "source": [
    "# Exercício 3\n",
    "# Dada os dois dicionários abaixo, calcule a média de preços:\n",
    "\n",
    "# produtos = [ {\n",
    "#           'produto': 'maça',\n",
    "#           'preco': 2.2\n",
    "#           },\n",
    "#          {\n",
    "#           'produto': 'banana',\n",
    "#           'preco': 1.2\n",
    "#           } ]\n",
    "# everton = {\n",
    "#         'cliente': 'Everton'\n",
    "#         'compra': [ {\n",
    "#                       'produto': 'maça',\n",
    "#                       'qtd' = 3\n",
    "#                      },\n",
    "#                     {\n",
    "#                       'produto': 'banana',\n",
    "#                       'qtd' = 10\n",
    "#                      } ]\n",
    "# }\n",
    "# Calcule o valor total da compra do Everton\n",
    "# Imprima a qtd que ele comprou e o que ele comprou\n",
    "# Imprima o valor total das compras\n",
    "\n",
    "# Dicionários\n",
    "produtos = [ {\n",
    "          'produto': 'maça',\n",
    "          'preco': 2.2\n",
    "          },\n",
    "         {\n",
    "          'produto': 'banana',\n",
    "          'preco': 1.2\n",
    "          } ]\n",
    "\n",
    "everton = {\n",
    "    'cliente': 'Everton',\n",
    "    'compra': [\n",
    "        {\n",
    "            'produto': 'maça',\n",
    "            'qtd': 3\n",
    "        },\n",
    "        {\n",
    "            'produto': 'banana',\n",
    "            'qtd': 10\n",
    "        }\n",
    "    ]\n",
    "}\n",
    "\n",
    "# Variáveis\n",
    "total_compra = 0\n",
    "\n",
    "# Calculando o valor de compra \n",
    "for item in everton['compra']:\n",
    "    for produto in produtos:\n",
    "        if produto['produto'] == item['produto']:\n",
    "            total_compra += produto['preco'] * item['qtd']\n",
    "            print(f\"Everton comprou {item['qtd']} {item['produto']}(s) no valor de R${produto['preco']} cada e o resultado final foi de R${produto['preco'] * item['qtd']:.2f}\")\n",
    "print(f'As compras do everton ficaram no valor de R${total_compra:.2f}')"
   ]
  }
 ],
 "metadata": {
  "kernelspec": {
   "display_name": "Python 3",
   "language": "python",
   "name": "python3"
  },
  "language_info": {
   "codemirror_mode": {
    "name": "ipython",
    "version": 3
   },
   "file_extension": ".py",
   "mimetype": "text/x-python",
   "name": "python",
   "nbconvert_exporter": "python",
   "pygments_lexer": "ipython3",
   "version": "3.12.2"
  }
 },
 "nbformat": 4,
 "nbformat_minor": 2
}
