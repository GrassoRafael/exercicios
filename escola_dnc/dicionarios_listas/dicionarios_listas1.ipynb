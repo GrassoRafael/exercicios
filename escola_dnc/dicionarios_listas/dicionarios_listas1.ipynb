{
 "cells": [
  {
   "cell_type": "code",
   "execution_count": 1,
   "metadata": {},
   "outputs": [
    {
     "name": "stdout",
     "output_type": "stream",
     "text": [
      "====Insira as informações solicitadas do aluno====\n",
      "O aluno Rafael teve a média 9.0 e foi aprovado\n",
      "{'nome': 'Rafael', 'notas': [10.0, 8.0], 'media': 9.0, 'status': 'Aprovado'}\n",
      "\n",
      "\n",
      "====Insira as informações solicitadas do aluno====\n",
      "O aluno Natasha teve a média 5.0 e foi reprovado\n",
      "{'nome': 'Natasha', 'notas': [6.0, 4.0], 'media': 5.0, 'status': 'Reprovado'}\n",
      "\n",
      "\n",
      "====Insira as informações solicitadas do aluno====\n",
      "O aluno Anderson teve a média 8.0 e foi aprovado\n",
      "{'nome': 'Anderson', 'notas': [10.0, 6.0], 'media': 8.0, 'status': 'Aprovado'}\n",
      "\n",
      "\n",
      "====Insira as informações solicitadas do aluno====\n",
      "O aluno Vinicius teve a média 6.5 e foi reprovado\n",
      "{'nome': 'Vinicius', 'notas': [8.0, 5.0], 'media': 6.5, 'status': 'Reprovado'}\n",
      "\n",
      "\n",
      "Foram 4 alunos cadastrados e a média das notas foi: 7.12\n",
      "\n",
      "[{'nome': 'Rafael', 'notas': [10.0, 8.0], 'media': 9.0, 'status': 'Aprovado'}, {'nome': 'Natasha', 'notas': [6.0, 4.0], 'media': 5.0, 'status': 'Reprovado'}, {'nome': 'Anderson', 'notas': [10.0, 6.0], 'media': 8.0, 'status': 'Aprovado'}, {'nome': 'Vinicius', 'notas': [8.0, 5.0], 'media': 6.5, 'status': 'Reprovado'}]\n"
     ]
    }
   ],
   "source": [
    "# Exercício 2\n",
    "# Adapte o sistema anterior para que as notas 1 e 2 estejam dentro de uma lista. Então o dicionário irá conter:\n",
    "# nome:\n",
    "# nota: [nota1 nota2]\n",
    "# media:\n",
    "# status:\n",
    "# ao 5. faça o mesmo do anterior.\n",
    "\n",
    "# Variáveis e listas\n",
    "alunos = []\n",
    "dicio = {}\n",
    "soma = 0\n",
    "media = 0\n",
    "notas = []\n",
    "\n",
    "# Declarando os dicionarios e adicionando as listas\n",
    "while True:\n",
    "    print(f\"{'Insira as informações solicitadas do aluno':=^50}\")\n",
    "    dicio['nome'] = str(input('Digite o nome do aluno: ').strip().title())\n",
    "    notas.append(float(input('Digite a primeira nota: ').strip())) # Adição da primeira nota\n",
    "    notas.append(float(input('Digite a segunda nota: ').strip())) # Adição da segunda nota\n",
    "    dicio['notas'] = notas[:]\n",
    "    dicio['media'] = (notas[0] + notas[1]) / 2\n",
    "    notas.clear()\n",
    "\n",
    "    if dicio['media'] >= 7:\n",
    "        dicio['status'] = 'Aprovado'\n",
    "        print(f\"O aluno {dicio['nome']} teve a média {dicio['media']} e foi aprovado\")\n",
    "    else:\n",
    "        dicio['status'] = 'Reprovado'\n",
    "        print(f\"O aluno {dicio['nome']} teve a média {dicio['media']} e foi reprovado\")\n",
    "    print(dicio)\n",
    "\n",
    "    media += dicio['media']\n",
    "\n",
    "    alunos.append(dicio.copy()) # Adicionando dicionário a lista\n",
    "    print()\n",
    "\n",
    "    continuar = input('Gostaria de continuar? (s/n): ').strip().lower() # Condicional para sair do programa\n",
    "    print()\n",
    "    if continuar == 'n':\n",
    "        print(f\"Foram {len(alunos)} alunos cadastrados e a média das notas foi: {media / len(alunos):.2f}\")\n",
    "        break\n",
    "\n",
    "print()\n",
    "print(alunos)\n"
   ]
  }
 ],
 "metadata": {
  "kernelspec": {
   "display_name": "Python 3",
   "language": "python",
   "name": "python3"
  },
  "language_info": {
   "codemirror_mode": {
    "name": "ipython",
    "version": 3
   },
   "file_extension": ".py",
   "mimetype": "text/x-python",
   "name": "python",
   "nbconvert_exporter": "python",
   "pygments_lexer": "ipython3",
   "version": "3.12.2"
  }
 },
 "nbformat": 4,
 "nbformat_minor": 2
}
