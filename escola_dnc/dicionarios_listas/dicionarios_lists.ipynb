{
 "cells": [
  {
   "cell_type": "code",
   "execution_count": 1,
   "metadata": {},
   "outputs": [
    {
     "name": "stdout",
     "output_type": "stream",
     "text": [
      "====Insira as informações solicitadas do aluno====\n",
      "O aluno Rafael teve a média 6.0 e foi reprovado\n",
      "{'nome': 'Rafael', 'nota1': 4.0, 'nota2': 8.0, 'media': 6.0, 'status': 'Reprovado'}\n",
      "\n",
      "\n",
      "====Insira as informações solicitadas do aluno====\n",
      "O aluno Natasha teve a média 8.0 e foi aprovado\n",
      "{'nome': 'Natasha', 'nota1': 10.0, 'nota2': 6.0, 'media': 8.0, 'status': 'Aprovado'}\n",
      "\n",
      "\n",
      "====Insira as informações solicitadas do aluno====\n",
      "O aluno Anderson teve a média 5.5 e foi reprovado\n",
      "{'nome': 'Anderson', 'nota1': 4.0, 'nota2': 7.0, 'media': 5.5, 'status': 'Reprovado'}\n",
      "\n",
      "\n",
      "====Insira as informações solicitadas do aluno====\n",
      "O aluno Vinicius teve a média 8.5 e foi aprovado\n",
      "{'nome': 'Vinicius', 'nota1': 9.0, 'nota2': 8.0, 'media': 8.5, 'status': 'Aprovado'}\n",
      "\n",
      "\n",
      "Foram 4 alunos cadastrados e a média das notas foi: 7.00\n",
      "\n",
      "[{'nome': 'Rafael', 'nota1': 4.0, 'nota2': 8.0, 'media': 6.0, 'status': 'Reprovado'}, {'nome': 'Natasha', 'nota1': 10.0, 'nota2': 6.0, 'media': 8.0, 'status': 'Aprovado'}, {'nome': 'Anderson', 'nota1': 4.0, 'nota2': 7.0, 'media': 5.5, 'status': 'Reprovado'}, {'nome': 'Vinicius', 'nota1': 9.0, 'nota2': 8.0, 'media': 8.5, 'status': 'Aprovado'}]\n"
     ]
    }
   ],
   "source": [
    "# Exercício 1\n",
    "# Crie uma lista de dicionários contendo as notas de todos os alunos de uma sala (5 alunos). No dicionário é para ter os campos:\n",
    "# nome:\n",
    "# nota1:\n",
    "# nota2:\n",
    "# media:\n",
    "# status:\n",
    "# Peça para o usuário digitar as notas de cada aluno\n",
    "# Tire a média das notas e adicione no dicionário\n",
    "# Se média for maior ou igual a 7, coloque \"aprovado\" no status, caso contrário, coloque \"reprovado\"\n",
    "# Calcule a média das médias e imprima para o professor.\n",
    "\n",
    "# Variáveis e listas\n",
    "alunos = []\n",
    "dicio = {}\n",
    "soma = 0\n",
    "contagem = 0\n",
    "media = 0\n",
    "\n",
    "# Declarando os dicionarios e adicionando as listas\n",
    "while True:\n",
    "    print(f\"{'Insira as informações solicitadas do aluno':=^50}\")\n",
    "    dicio['nome'] = str(input('Digite o nome do aluno: ').strip().title())\n",
    "    dicio['nota1'] = float(input('Digite a primeira nota: ').strip())\n",
    "    dicio['nota2'] = float(input('Digite a segunda nota: ').strip())\n",
    "    dicio['media'] = (dicio['nota1'] + dicio['nota2']) / 2\n",
    "\n",
    "    if dicio['media'] >= 7:\n",
    "        dicio['status'] = 'Aprovado'\n",
    "        print(f\"O aluno {dicio['nome']} teve a média {dicio['media']} e foi aprovado\")\n",
    "    else:\n",
    "        dicio['status'] = 'Reprovado'\n",
    "        print(f\"O aluno {dicio['nome']} teve a média {dicio['media']} e foi reprovado\")\n",
    "    print(dicio)\n",
    "\n",
    "    contagem += 1\n",
    "    media += dicio['media']\n",
    "\n",
    "    alunos.append(dicio.copy()) # Adicionando dicionário a lista\n",
    "    print()\n",
    "\n",
    "    continuar = input('Gostaria de continuar? (s/n): ').strip().lower() # Condicional para sair do programa\n",
    "    print()\n",
    "    if continuar == 'n':\n",
    "        print(f\"Foram {contagem} alunos cadastrados e a média das notas foi: {media / contagem:.2f}\")\n",
    "        break\n",
    "\n",
    "print()\n",
    "print(alunos)\n"
   ]
  }
 ],
 "metadata": {
  "kernelspec": {
   "display_name": "Python 3",
   "language": "python",
   "name": "python3"
  },
  "language_info": {
   "codemirror_mode": {
    "name": "ipython",
    "version": 3
   },
   "file_extension": ".py",
   "mimetype": "text/x-python",
   "name": "python",
   "nbconvert_exporter": "python",
   "pygments_lexer": "ipython3",
   "version": "3.12.2"
  }
 },
 "nbformat": 4,
 "nbformat_minor": 2
}
